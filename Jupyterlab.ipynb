{
 "cells": [
  {
   "cell_type": "markdown",
   "id": "8ffd82b5",
   "metadata": {},
   "source": [
    "\n",
    "# Groot's Holiday Notebook\n",
    "\n",
    "### This notebook introduces Groot and his holiday preferences with a picture and a link to a youtube video.\n"
   ]
  },
  {
   "cell_type": "code",
   "execution_count": null,
   "id": "e1ba0858",
   "metadata": {},
   "outputs": [],
   "source": [
    "name = input(\"What's your name? \")"
   ]
  },
  {
   "cell_type": "code",
   "execution_count": null,
   "id": "16f66d02",
   "metadata": {},
   "outputs": [],
   "source": []
  }
 ],
 "metadata": {
  "kernelspec": {
   "display_name": "Python 3",
   "language": "python",
   "name": "python3"
  },
  "language_info": {
   "codemirror_mode": {
    "name": "ipython",
    "version": 3
   },
   "file_extension": ".py",
   "mimetype": "text/x-python",
   "name": "python",
   "nbconvert_exporter": "python",
   "pygments_lexer": "ipython3",
   "version": "3.9.6"
  }
 },
 "nbformat": 4,
 "nbformat_minor": 5
}
